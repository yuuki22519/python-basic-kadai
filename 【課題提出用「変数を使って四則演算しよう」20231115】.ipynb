{
  "nbformat": 4,
  "nbformat_minor": 0,
  "metadata": {
    "colab": {
      "provenance": [],
      "authorship_tag": "ABX9TyMWPoa0FRHVaCdQEu1Da14z",
      "include_colab_link": true
    },
    "kernelspec": {
      "name": "python3",
      "display_name": "Python 3"
    },
    "language_info": {
      "name": "python"
    }
  },
  "cells": [
    {
      "cell_type": "markdown",
      "metadata": {
        "id": "view-in-github",
        "colab_type": "text"
      },
      "source": [
        "<a href=\"https://colab.research.google.com/github/yuuki22519/python-basic-kadai/blob/main/%E3%80%90%E8%AA%B2%E9%A1%8C%E6%8F%90%E5%87%BA%E7%94%A8%E3%80%8C%E5%A4%89%E6%95%B0%E3%82%92%E4%BD%BF%E3%81%A3%E3%81%A6%E5%9B%9B%E5%89%87%E6%BC%94%E7%AE%97%E3%81%97%E3%82%88%E3%81%86%E3%80%8D20231115%E3%80%91.ipynb\" target=\"_parent\"><img src=\"https://colab.research.google.com/assets/colab-badge.svg\" alt=\"Open In Colab\"/></a>"
      ]
    },
    {
      "cell_type": "code",
      "execution_count": null,
      "metadata": {
        "colab": {
          "base_uri": "https://localhost:8080/"
        },
        "id": "VODurgY0RfZT",
        "outputId": "2f218738-e933-4195-a325-af260232147f"
      },
      "outputs": [
        {
          "output_type": "stream",
          "name": "stdout",
          "text": [
            "75.0㎠\n"
          ]
        }
      ],
      "source": [
        "jouhen = 10\n",
        "kahen = 20\n",
        "height = 5\n",
        "daikei = (jouhen + kahen) * height / 2\n",
        "print(str(daikei) + \"㎠\")"
      ]
    },
    {
      "cell_type": "code",
      "source": [],
      "metadata": {
        "id": "DTszHD7rRgZU"
      },
      "execution_count": null,
      "outputs": []
    }
  ]
}